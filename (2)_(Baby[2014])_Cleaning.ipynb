{
 "cells": [
  {
   "cell_type": "markdown",
   "metadata": {},
   "source": [
    "![amazon_logo](banner.png)\n",
    "___"
   ]
  },
  {
   "cell_type": "markdown",
   "metadata": {},
   "source": [
    "# Step 2 - Preprocessing & Cleaning\n",
    "    a) Importing data\n",
    "    \n",
    "    b) Duplicate and Missing Data\n",
    "     \n",
    "    c) Evaluate data\n",
    "            - Overall Rating Column\n",
    "            - UNIX Datetime data\n",
    "            - Combine \"Summary\" & \"Review Text\"\n",
    "   \n",
    "   "
   ]
  },
  {
   "cell_type": "markdown",
   "metadata": {},
   "source": [
    "### a) Importing data\n",
    "##### Use 'amazon_data.csv' to begin cleaning"
   ]
  },
  {
   "cell_type": "code",
   "execution_count": 42,
   "metadata": {},
   "outputs": [],
   "source": [
    "import pandas as pd\n",
    "import numpy as np\n",
    "\n",
    "#import .csv file\n",
    "raw_amazon_df = pd.read_csv(\"amazon_data.csv\")\n",
    "raw_amazon_df.drop(['Unnamed: 0'], axis=1, inplace=True)"
   ]
  },
  {
   "cell_type": "code",
   "execution_count": 43,
   "metadata": {},
   "outputs": [
    {
     "name": "stdout",
     "output_type": "stream",
     "text": [
      "reviewerID        object\n",
      "asin              object\n",
      "reviewerName      object\n",
      "helpful           object\n",
      "reviewText        object\n",
      "overall            int64\n",
      "summary           object\n",
      "unixReviewTime     int64\n",
      "reviewTime        object\n",
      "dtype: object\n",
      "(160792, 9)\n"
     ]
    },
    {
     "data": {
      "text/html": [
       "<div>\n",
       "<style scoped>\n",
       "    .dataframe tbody tr th:only-of-type {\n",
       "        vertical-align: middle;\n",
       "    }\n",
       "\n",
       "    .dataframe tbody tr th {\n",
       "        vertical-align: top;\n",
       "    }\n",
       "\n",
       "    .dataframe thead th {\n",
       "        text-align: right;\n",
       "    }\n",
       "</style>\n",
       "<table border=\"1\" class=\"dataframe\">\n",
       "  <thead>\n",
       "    <tr style=\"text-align: right;\">\n",
       "      <th></th>\n",
       "      <th>reviewerID</th>\n",
       "      <th>asin</th>\n",
       "      <th>reviewerName</th>\n",
       "      <th>helpful</th>\n",
       "      <th>reviewText</th>\n",
       "      <th>overall</th>\n",
       "      <th>summary</th>\n",
       "      <th>unixReviewTime</th>\n",
       "      <th>reviewTime</th>\n",
       "    </tr>\n",
       "  </thead>\n",
       "  <tbody>\n",
       "    <tr>\n",
       "      <td>0</td>\n",
       "      <td>A1HK2FQW6KXQB2</td>\n",
       "      <td>097293751X</td>\n",
       "      <td>Amanda Johnsen \"Amanda E. Johnsen\"</td>\n",
       "      <td>[0, 0]</td>\n",
       "      <td>Perfect for new parents. We were able to keep ...</td>\n",
       "      <td>5</td>\n",
       "      <td>Awesine</td>\n",
       "      <td>1373932800</td>\n",
       "      <td>07 16, 2013</td>\n",
       "    </tr>\n",
       "  </tbody>\n",
       "</table>\n",
       "</div>"
      ],
      "text/plain": [
       "       reviewerID        asin                        reviewerName helpful  \\\n",
       "0  A1HK2FQW6KXQB2  097293751X  Amanda Johnsen \"Amanda E. Johnsen\"  [0, 0]   \n",
       "\n",
       "                                          reviewText  overall  summary  \\\n",
       "0  Perfect for new parents. We were able to keep ...        5  Awesine   \n",
       "\n",
       "   unixReviewTime   reviewTime  \n",
       "0      1373932800  07 16, 2013  "
      ]
     },
     "execution_count": 43,
     "metadata": {},
     "output_type": "execute_result"
    }
   ],
   "source": [
    "#check datatypes\n",
    "print(raw_amazon_df.dtypes)\n",
    "print(raw_amazon_df.shape)\n",
    "raw_amazon_df.head(1)"
   ]
  },
  {
   "cell_type": "markdown",
   "metadata": {},
   "source": [
    "### b) Duplicate and Missing Data"
   ]
  },
  {
   "cell_type": "code",
   "execution_count": 44,
   "metadata": {},
   "outputs": [
    {
     "name": "stdout",
     "output_type": "stream",
     "text": [
      "dataframe shape:  (160792, 9)\n",
      "number of duplicate rows:  (0, 9)\n"
     ]
    }
   ],
   "source": [
    "#total number of rows and columns\n",
    "print('dataframe shape: ', raw_amazon_df.shape)\n",
    "\n",
    "#rows containing duplicate data\n",
    "duplicate_rows_df = raw_amazon_df[raw_amazon_df.duplicated()]\n",
    "\n",
    "print('number of duplicate rows: ', duplicate_rows_df.shape)"
   ]
  },
  {
   "cell_type": "code",
   "execution_count": 45,
   "metadata": {},
   "outputs": [
    {
     "name": "stdout",
     "output_type": "stream",
     "text": [
      "reviewerID           0\n",
      "asin                 0\n",
      "reviewerName      1365\n",
      "helpful              0\n",
      "reviewText          60\n",
      "overall              0\n",
      "summary              0\n",
      "unixReviewTime       0\n",
      "reviewTime           0\n",
      "dtype: int64\n"
     ]
    }
   ],
   "source": [
    "#finding the null values\n",
    "print(raw_amazon_df.isnull().sum())"
   ]
  },
  {
   "cell_type": "code",
   "execution_count": 46,
   "metadata": {},
   "outputs": [
    {
     "name": "stdout",
     "output_type": "stream",
     "text": [
      "reviewerID        0\n",
      "asin              0\n",
      "reviewerName      0\n",
      "helpful           0\n",
      "reviewText        0\n",
      "overall           0\n",
      "summary           0\n",
      "unixReviewTime    0\n",
      "reviewTime        0\n",
      "dtype: int64\n",
      "(159367, 9)\n"
     ]
    }
   ],
   "source": [
    "#locate NaN\n",
    "is_NaN = raw_amazon_df.isna()\n",
    "row_has_NaN = raw_amazon_df.any(axis=1)\n",
    "rows_with_NaN = raw_amazon_df[row_has_NaN]\n",
    "\n",
    "#remove NaN\n",
    "raw_amazon_df = raw_amazon_df.dropna()\n",
    "print(raw_amazon_df.isna().sum())\n",
    "print(raw_amazon_df.shape)\n",
    "\n",
    "#reset index\n",
    "raw_amazon_df.reset_index(drop=True,inplace=True)"
   ]
  },
  {
   "cell_type": "code",
   "execution_count": 49,
   "metadata": {},
   "outputs": [
    {
     "name": "stdout",
     "output_type": "stream",
     "text": [
      "dataframe shape:  (159367, 9) \n",
      " 1425 rows were removed\n"
     ]
    }
   ],
   "source": [
    "## total number of rows and columns\n",
    "print('dataframe shape: ', raw_amazon_df.shape, '\\n 1425 rows were removed')"
   ]
  },
  {
   "cell_type": "markdown",
   "metadata": {},
   "source": [
    "### c) Evaluate Data"
   ]
  },
  {
   "cell_type": "markdown",
   "metadata": {},
   "source": [
    "##### Check 'Overall' Rating Column"
   ]
  },
  {
   "cell_type": "code",
   "execution_count": 50,
   "metadata": {},
   "outputs": [
    {
     "data": {
      "text/plain": [
       "5    92579\n",
       "4    32723\n",
       "3    17144\n",
       "2     9155\n",
       "1     7766\n",
       "Name: overall, dtype: int64"
      ]
     },
     "execution_count": 50,
     "metadata": {},
     "output_type": "execute_result"
    }
   ],
   "source": [
    "#evaluate 'overall rating' column\n",
    "raw_amazon_df['overall'].value_counts()"
   ]
  },
  {
   "cell_type": "code",
   "execution_count": 70,
   "metadata": {},
   "outputs": [
    {
     "data": {
      "image/png": "[encoded data removed]",
      "text/plain": [
       "<Figure size 432x288 with 1 Axes>"
      ]
     },
     "metadata": {},
     "output_type": "display_data"
    }
   ],
   "source": [
    "import seaborn as sns\n",
    "import matplotlib.pyplot as plt\n",
    "from scipy import stats\n",
    "%matplotlib inline \n",
    "sns.set(color_codes=True)\n",
    "\n",
    "ratings = raw_amazon_df['overall']\n",
    "out = pd.cut(ratings, bins=[-np.inf, 4, 5], include_lowest=True)\n",
    "ax = out.value_counts(sort=False).plot.bar(rot=0, color=\"b\", figsize=(6,4))\n",
    "plt.show()"
   ]
  },
  {
   "cell_type": "markdown",
   "metadata": {},
   "source": [
    "##### Datetime data"
   ]
  },
  {
   "cell_type": "code",
   "execution_count": 52,
   "metadata": {},
   "outputs": [
    {
     "data": {
      "text/html": [
       "<div>\n",
       "<style scoped>\n",
       "    .dataframe tbody tr th:only-of-type {\n",
       "        vertical-align: middle;\n",
       "    }\n",
       "\n",
       "    .dataframe tbody tr th {\n",
       "        vertical-align: top;\n",
       "    }\n",
       "\n",
       "    .dataframe thead th {\n",
       "        text-align: right;\n",
       "    }\n",
       "</style>\n",
       "<table border=\"1\" class=\"dataframe\">\n",
       "  <thead>\n",
       "    <tr style=\"text-align: right;\">\n",
       "      <th></th>\n",
       "      <th>reviewerID</th>\n",
       "      <th>asin</th>\n",
       "      <th>reviewerName</th>\n",
       "      <th>helpful</th>\n",
       "      <th>reviewText</th>\n",
       "      <th>overall</th>\n",
       "      <th>summary</th>\n",
       "      <th>unixReviewTime</th>\n",
       "      <th>reviewTime</th>\n",
       "    </tr>\n",
       "  </thead>\n",
       "  <tbody>\n",
       "    <tr>\n",
       "      <td>0</td>\n",
       "      <td>A1HK2FQW6KXQB2</td>\n",
       "      <td>097293751X</td>\n",
       "      <td>Amanda Johnsen \"Amanda E. Johnsen\"</td>\n",
       "      <td>[0, 0]</td>\n",
       "      <td>Perfect for new parents. We were able to keep ...</td>\n",
       "      <td>5</td>\n",
       "      <td>Awesine</td>\n",
       "      <td>1373932800</td>\n",
       "      <td>07 16, 2013</td>\n",
       "    </tr>\n",
       "  </tbody>\n",
       "</table>\n",
       "</div>"
      ],
      "text/plain": [
       "       reviewerID        asin                        reviewerName helpful  \\\n",
       "0  A1HK2FQW6KXQB2  097293751X  Amanda Johnsen \"Amanda E. Johnsen\"  [0, 0]   \n",
       "\n",
       "                                          reviewText  overall  summary  \\\n",
       "0  Perfect for new parents. We were able to keep ...        5  Awesine   \n",
       "\n",
       "   unixReviewTime   reviewTime  \n",
       "0      1373932800  07 16, 2013  "
      ]
     },
     "execution_count": 52,
     "metadata": {},
     "output_type": "execute_result"
    }
   ],
   "source": [
    "raw_amazon_df.head(1)"
   ]
  },
  {
   "cell_type": "code",
   "execution_count": 53,
   "metadata": {},
   "outputs": [
    {
     "name": "stdout",
     "output_type": "stream",
     "text": [
      "reviewerID                object\n",
      "asin                      object\n",
      "reviewerName              object\n",
      "helpful                   object\n",
      "reviewText                object\n",
      "overall                    int64\n",
      "summary                   object\n",
      "unixReviewTime    datetime64[ns]\n",
      "reviewTime                object\n",
      "dtype: object\n"
     ]
    }
   ],
   "source": [
    "#cleaned_df.created_at = pd.to_datetime(cleaned_df.created_at, unit='s')\n",
    "\n",
    "raw_amazon_df.loc[:, 'unixReviewTime'] = pd.to_datetime(raw_amazon_df.loc[:, 'unixReviewTime'],unit='s')\n",
    "\n",
    "\n",
    "print(raw_amazon_df.dtypes)"
   ]
  },
  {
   "cell_type": "code",
   "execution_count": 54,
   "metadata": {},
   "outputs": [],
   "source": [
    "#remove redundant 'reviewTime' column\n",
    "raw_amazon_df.drop('reviewTime', axis=1, inplace=True)"
   ]
  },
  {
   "cell_type": "code",
   "execution_count": 55,
   "metadata": {},
   "outputs": [
    {
     "data": {
      "text/html": [
       "<div>\n",
       "<style scoped>\n",
       "    .dataframe tbody tr th:only-of-type {\n",
       "        vertical-align: middle;\n",
       "    }\n",
       "\n",
       "    .dataframe tbody tr th {\n",
       "        vertical-align: top;\n",
       "    }\n",
       "\n",
       "    .dataframe thead th {\n",
       "        text-align: right;\n",
       "    }\n",
       "</style>\n",
       "<table border=\"1\" class=\"dataframe\">\n",
       "  <thead>\n",
       "    <tr style=\"text-align: right;\">\n",
       "      <th></th>\n",
       "      <th>reviewerID</th>\n",
       "      <th>asin</th>\n",
       "      <th>reviewerName</th>\n",
       "      <th>helpful</th>\n",
       "      <th>reviewText</th>\n",
       "      <th>overall</th>\n",
       "      <th>summary</th>\n",
       "      <th>unixReviewTime</th>\n",
       "    </tr>\n",
       "  </thead>\n",
       "  <tbody>\n",
       "    <tr>\n",
       "      <td>0</td>\n",
       "      <td>A1HK2FQW6KXQB2</td>\n",
       "      <td>097293751X</td>\n",
       "      <td>Amanda Johnsen \"Amanda E. Johnsen\"</td>\n",
       "      <td>[0, 0]</td>\n",
       "      <td>Perfect for new parents. We were able to keep ...</td>\n",
       "      <td>5</td>\n",
       "      <td>Awesine</td>\n",
       "      <td>2013-07-16</td>\n",
       "    </tr>\n",
       "  </tbody>\n",
       "</table>\n",
       "</div>"
      ],
      "text/plain": [
       "       reviewerID        asin                        reviewerName helpful  \\\n",
       "0  A1HK2FQW6KXQB2  097293751X  Amanda Johnsen \"Amanda E. Johnsen\"  [0, 0]   \n",
       "\n",
       "                                          reviewText  overall  summary  \\\n",
       "0  Perfect for new parents. We were able to keep ...        5  Awesine   \n",
       "\n",
       "  unixReviewTime  \n",
       "0     2013-07-16  "
      ]
     },
     "execution_count": 55,
     "metadata": {},
     "output_type": "execute_result"
    }
   ],
   "source": [
    "raw_amazon_df.head(1)"
   ]
  },
  {
   "cell_type": "markdown",
   "metadata": {},
   "source": [
    "##### Combining 'Review Text' and 'Summary' columns"
   ]
  },
  {
   "cell_type": "code",
   "execution_count": 56,
   "metadata": {},
   "outputs": [],
   "source": [
    "raw_amazon_df['total_review'] = raw_amazon_df[['summary', 'reviewText']].apply(' '.join, axis=1)"
   ]
  },
  {
   "cell_type": "code",
   "execution_count": 57,
   "metadata": {},
   "outputs": [
    {
     "data": {
      "text/plain": [
       "0         Awesine Perfect for new parents. We were able ...\n",
       "1         Should be required for all new parents! This b...\n",
       "2         Grandmother watching baby Helps me know exactl...\n",
       "3         repeat buyer I bought this a few times for my ...\n",
       "4         Great I wanted an alternative to printing out ...\n",
       "                                ...                        \n",
       "159362    Great baby gift Bought this as a baby gift and...\n",
       "159363    Not too bulky I am new to cloth diapering. I w...\n",
       "159364    great help! My friend is planning on cloth dia...\n",
       "159365    Love these diapers! We LOVE the organic cotton...\n",
       "159366    Really absorbent These are great. I should hav...\n",
       "Name: total_review, Length: 159367, dtype: object"
      ]
     },
     "execution_count": 57,
     "metadata": {},
     "output_type": "execute_result"
    }
   ],
   "source": [
    "raw_amazon_df['total_review']"
   ]
  },
  {
   "cell_type": "markdown",
   "metadata": {},
   "source": [
    "### End of Step 2\n"
   ]
  },
  {
   "cell_type": "code",
   "execution_count": 58,
   "metadata": {},
   "outputs": [],
   "source": [
    "#write raw_amazon_df to a .csv\n",
    "raw_amazon_df.to_csv('cleaned_amazon_data.csv')"
   ]
  },
  {
   "cell_type": "code",
   "execution_count": null,
   "metadata": {},
   "outputs": [],
   "source": []
  }
 ],
 "metadata": {
  "kernelspec": {
   "display_name": "Python 3",
   "language": "python",
   "name": "python3"
  },
  "language_info": {
   "codemirror_mode": {
    "name": "ipython",
    "version": 3
   },
   "file_extension": ".py",
   "mimetype": "text/x-python",
   "name": "python",
   "nbconvert_exporter": "python",
   "pygments_lexer": "ipython3",
   "version": "3.7.4"
  }
 },
 "nbformat": 4,
 "nbformat_minor": 2
}

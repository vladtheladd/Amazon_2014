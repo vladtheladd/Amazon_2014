{
 "cells": [
  {
   "cell_type": "markdown",
   "metadata": {},
   "source": [
    "![amazon_logo](banner.png)\n",
    "___"
   ]
  },
  {
   "cell_type": "code",
   "execution_count": 3,
   "metadata": {},
   "outputs": [],
   "source": [
    "import pandas as pd\n",
    "import numpy as np\n",
    "import gzip"
   ]
  },
  {
   "cell_type": "markdown",
   "metadata": {},
   "source": [
    "# Step 1 - Import and set up data\n",
    "\n",
    "        a) Import Review Data\n",
    "        \n",
    "        b) Import Q/A Data"
   ]
  },
  {
   "cell_type": "markdown",
   "metadata": {},
   "source": [
    "##### a) Amazon Review Data"
   ]
  },
  {
   "cell_type": "code",
   "execution_count": 6,
   "metadata": {},
   "outputs": [
    {
     "name": "stdout",
     "output_type": "stream",
     "text": [
      "reviewerID        object\n",
      "asin              object\n",
      "reviewerName      object\n",
      "helpful           object\n",
      "reviewText        object\n",
      "overall            int64\n",
      "summary           object\n",
      "unixReviewTime     int64\n",
      "reviewTime        object\n",
      "dtype: object\n"
     ]
    },
    {
     "data": {
      "text/html": [
       "<div>\n",
       "<style scoped>\n",
       "    .dataframe tbody tr th:only-of-type {\n",
       "        vertical-align: middle;\n",
       "    }\n",
       "\n",
       "    .dataframe tbody tr th {\n",
       "        vertical-align: top;\n",
       "    }\n",
       "\n",
       "    .dataframe thead th {\n",
       "        text-align: right;\n",
       "    }\n",
       "</style>\n",
       "<table border=\"1\" class=\"dataframe\">\n",
       "  <thead>\n",
       "    <tr style=\"text-align: right;\">\n",
       "      <th></th>\n",
       "      <th>reviewerID</th>\n",
       "      <th>asin</th>\n",
       "      <th>reviewerName</th>\n",
       "      <th>helpful</th>\n",
       "      <th>reviewText</th>\n",
       "      <th>overall</th>\n",
       "      <th>summary</th>\n",
       "      <th>unixReviewTime</th>\n",
       "      <th>reviewTime</th>\n",
       "    </tr>\n",
       "  </thead>\n",
       "  <tbody>\n",
       "    <tr>\n",
       "      <td>0</td>\n",
       "      <td>A1HK2FQW6KXQB2</td>\n",
       "      <td>097293751X</td>\n",
       "      <td>Amanda Johnsen \"Amanda E. Johnsen\"</td>\n",
       "      <td>[0, 0]</td>\n",
       "      <td>Perfect for new parents. We were able to keep ...</td>\n",
       "      <td>5</td>\n",
       "      <td>Awesine</td>\n",
       "      <td>1373932800</td>\n",
       "      <td>07 16, 2013</td>\n",
       "    </tr>\n",
       "    <tr>\n",
       "      <td>1</td>\n",
       "      <td>A19K65VY14D13R</td>\n",
       "      <td>097293751X</td>\n",
       "      <td>angela</td>\n",
       "      <td>[0, 0]</td>\n",
       "      <td>This book is such a life saver.  It has been s...</td>\n",
       "      <td>5</td>\n",
       "      <td>Should be required for all new parents!</td>\n",
       "      <td>1372464000</td>\n",
       "      <td>06 29, 2013</td>\n",
       "    </tr>\n",
       "    <tr>\n",
       "      <td>2</td>\n",
       "      <td>A2LL1TGG90977E</td>\n",
       "      <td>097293751X</td>\n",
       "      <td>Carter</td>\n",
       "      <td>[0, 0]</td>\n",
       "      <td>Helps me know exactly how my babies day has go...</td>\n",
       "      <td>5</td>\n",
       "      <td>Grandmother watching baby</td>\n",
       "      <td>1395187200</td>\n",
       "      <td>03 19, 2014</td>\n",
       "    </tr>\n",
       "    <tr>\n",
       "      <td>3</td>\n",
       "      <td>A5G19RYX8599E</td>\n",
       "      <td>097293751X</td>\n",
       "      <td>cfpurplerose</td>\n",
       "      <td>[0, 0]</td>\n",
       "      <td>I bought this a few times for my older son and...</td>\n",
       "      <td>5</td>\n",
       "      <td>repeat buyer</td>\n",
       "      <td>1376697600</td>\n",
       "      <td>08 17, 2013</td>\n",
       "    </tr>\n",
       "    <tr>\n",
       "      <td>4</td>\n",
       "      <td>A2496A4EWMLQ7</td>\n",
       "      <td>097293751X</td>\n",
       "      <td>C. Jeter</td>\n",
       "      <td>[0, 0]</td>\n",
       "      <td>I wanted an alternative to printing out daily ...</td>\n",
       "      <td>4</td>\n",
       "      <td>Great</td>\n",
       "      <td>1396310400</td>\n",
       "      <td>04 1, 2014</td>\n",
       "    </tr>\n",
       "  </tbody>\n",
       "</table>\n",
       "</div>"
      ],
      "text/plain": [
       "       reviewerID        asin                        reviewerName helpful  \\\n",
       "0  A1HK2FQW6KXQB2  097293751X  Amanda Johnsen \"Amanda E. Johnsen\"  [0, 0]   \n",
       "1  A19K65VY14D13R  097293751X                              angela  [0, 0]   \n",
       "2  A2LL1TGG90977E  097293751X                              Carter  [0, 0]   \n",
       "3   A5G19RYX8599E  097293751X                        cfpurplerose  [0, 0]   \n",
       "4   A2496A4EWMLQ7  097293751X                            C. Jeter  [0, 0]   \n",
       "\n",
       "                                          reviewText  overall  \\\n",
       "0  Perfect for new parents. We were able to keep ...        5   \n",
       "1  This book is such a life saver.  It has been s...        5   \n",
       "2  Helps me know exactly how my babies day has go...        5   \n",
       "3  I bought this a few times for my older son and...        5   \n",
       "4  I wanted an alternative to printing out daily ...        4   \n",
       "\n",
       "                                   summary  unixReviewTime   reviewTime  \n",
       "0                                  Awesine      1373932800  07 16, 2013  \n",
       "1  Should be required for all new parents!      1372464000  06 29, 2013  \n",
       "2                Grandmother watching baby      1395187200  03 19, 2014  \n",
       "3                             repeat buyer      1376697600  08 17, 2013  \n",
       "4                                    Great      1396310400   04 1, 2014  "
      ]
     },
     "execution_count": 6,
     "metadata": {},
     "output_type": "execute_result"
    }
   ],
   "source": [
    "#import .json file\n",
    "raw_amazon_df = pd.read_json('reviews_Baby_5.json.gz', lines = True)\n",
    "\n",
    "#check datatypes\n",
    "print(raw_amazon_df.dtypes)\n",
    "raw_amazon_df.head()"
   ]
  },
  {
   "cell_type": "code",
   "execution_count": 7,
   "metadata": {},
   "outputs": [
    {
     "data": {
      "text/plain": [
       "(160792, 9)"
      ]
     },
     "execution_count": 7,
     "metadata": {},
     "output_type": "execute_result"
    }
   ],
   "source": [
    "raw_amazon_df.shape"
   ]
  },
  {
   "cell_type": "markdown",
   "metadata": {},
   "source": [
    "##### b) Amazon Q/A Data"
   ]
  },
  {
   "cell_type": "code",
   "execution_count": 11,
   "metadata": {},
   "outputs": [],
   "source": [
    "def parse(path):\n",
    "  g = gzip.open(path, 'rb')\n",
    "  for l in g:\n",
    "    yield eval(l)\n",
    "\n",
    "def getDF(path):\n",
    "  i = 0\n",
    "  df = {}\n",
    "  for d in parse(path):\n",
    "    df[i] = d\n",
    "    i += 1\n",
    "  return pd.DataFrame.from_dict(df, orient='index')\n",
    "\n",
    "raw_qa_df = getDF('qa_Baby.json.gz')"
   ]
  },
  {
   "cell_type": "code",
   "execution_count": 12,
   "metadata": {},
   "outputs": [
    {
     "name": "stdout",
     "output_type": "stream",
     "text": [
      "questionType     object\n",
      "asin             object\n",
      "answerTime       object\n",
      "unixTime        float64\n",
      "question         object\n",
      "answer           object\n",
      "answerType       object\n",
      "dtype: object\n"
     ]
    },
    {
     "data": {
      "text/html": [
       "<div>\n",
       "<style scoped>\n",
       "    .dataframe tbody tr th:only-of-type {\n",
       "        vertical-align: middle;\n",
       "    }\n",
       "\n",
       "    .dataframe tbody tr th {\n",
       "        vertical-align: top;\n",
       "    }\n",
       "\n",
       "    .dataframe thead th {\n",
       "        text-align: right;\n",
       "    }\n",
       "</style>\n",
       "<table border=\"1\" class=\"dataframe\">\n",
       "  <thead>\n",
       "    <tr style=\"text-align: right;\">\n",
       "      <th></th>\n",
       "      <th>questionType</th>\n",
       "      <th>asin</th>\n",
       "      <th>answerTime</th>\n",
       "      <th>unixTime</th>\n",
       "      <th>question</th>\n",
       "      <th>answer</th>\n",
       "      <th>answerType</th>\n",
       "    </tr>\n",
       "  </thead>\n",
       "  <tbody>\n",
       "    <tr>\n",
       "      <td>0</td>\n",
       "      <td>open-ended</td>\n",
       "      <td>177036417X</td>\n",
       "      <td>Apr 16, 2015</td>\n",
       "      <td>1.429168e+09</td>\n",
       "      <td>Does this book contain any vaccination/immuniz...</td>\n",
       "      <td>Immunization page, yes. School, no.</td>\n",
       "      <td>NaN</td>\n",
       "    </tr>\n",
       "    <tr>\n",
       "      <td>1</td>\n",
       "      <td>yes/no</td>\n",
       "      <td>177036417X</td>\n",
       "      <td>Jul 1, 2014</td>\n",
       "      <td>1.404198e+09</td>\n",
       "      <td>Does this book have a section for the baby sho...</td>\n",
       "      <td>Yes it does</td>\n",
       "      <td>Y</td>\n",
       "    </tr>\n",
       "    <tr>\n",
       "      <td>2</td>\n",
       "      <td>yes/no</td>\n",
       "      <td>177036417X</td>\n",
       "      <td>Jun 9, 2014</td>\n",
       "      <td>1.402297e+09</td>\n",
       "      <td>Is it a religious based book? Just wondering s...</td>\n",
       "      <td>The book does have a lot of bible quotes in it...</td>\n",
       "      <td>?</td>\n",
       "    </tr>\n",
       "    <tr>\n",
       "      <td>3</td>\n",
       "      <td>yes/no</td>\n",
       "      <td>177036417X</td>\n",
       "      <td>May 28, 2014</td>\n",
       "      <td>1.401260e+09</td>\n",
       "      <td>is it 5 years</td>\n",
       "      <td>No. It's mainly for the first year. Everything...</td>\n",
       "      <td>N</td>\n",
       "    </tr>\n",
       "    <tr>\n",
       "      <td>4</td>\n",
       "      <td>yes/no</td>\n",
       "      <td>177036417X</td>\n",
       "      <td>Apr 23, 2014</td>\n",
       "      <td>1.398236e+09</td>\n",
       "      <td>is it a 5 year book?</td>\n",
       "      <td>Yes, it's a 5-year baby book. I bought this fo...</td>\n",
       "      <td>Y</td>\n",
       "    </tr>\n",
       "  </tbody>\n",
       "</table>\n",
       "</div>"
      ],
      "text/plain": [
       "  questionType        asin    answerTime      unixTime  \\\n",
       "0   open-ended  177036417X  Apr 16, 2015  1.429168e+09   \n",
       "1       yes/no  177036417X   Jul 1, 2014  1.404198e+09   \n",
       "2       yes/no  177036417X   Jun 9, 2014  1.402297e+09   \n",
       "3       yes/no  177036417X  May 28, 2014  1.401260e+09   \n",
       "4       yes/no  177036417X  Apr 23, 2014  1.398236e+09   \n",
       "\n",
       "                                            question  \\\n",
       "0  Does this book contain any vaccination/immuniz...   \n",
       "1  Does this book have a section for the baby sho...   \n",
       "2  Is it a religious based book? Just wondering s...   \n",
       "3                                      is it 5 years   \n",
       "4                               is it a 5 year book?   \n",
       "\n",
       "                                              answer answerType  \n",
       "0                Immunization page, yes. School, no.        NaN  \n",
       "1                                        Yes it does          Y  \n",
       "2  The book does have a lot of bible quotes in it...          ?  \n",
       "3  No. It's mainly for the first year. Everything...          N  \n",
       "4  Yes, it's a 5-year baby book. I bought this fo...          Y  "
      ]
     },
     "execution_count": 12,
     "metadata": {},
     "output_type": "execute_result"
    }
   ],
   "source": [
    "#check datatypes\n",
    "print(raw_qa_df.dtypes)\n",
    "raw_qa_df.head()"
   ]
  },
  {
   "cell_type": "code",
   "execution_count": 13,
   "metadata": {},
   "outputs": [
    {
     "data": {
      "text/plain": [
       "(28933, 7)"
      ]
     },
     "execution_count": 13,
     "metadata": {},
     "output_type": "execute_result"
    }
   ],
   "source": [
    "raw_qa_df.shape"
   ]
  },
  {
   "cell_type": "markdown",
   "metadata": {},
   "source": [
    "### End of Step 1"
   ]
  },
  {
   "cell_type": "code",
   "execution_count": 6,
   "metadata": {},
   "outputs": [],
   "source": [
    "#write to .csv\n",
    "raw_amazon_df.to_csv('amazon_data.csv')"
   ]
  },
  {
   "cell_type": "code",
   "execution_count": 15,
   "metadata": {},
   "outputs": [],
   "source": [
    "raw_qa_df.to_csv('amazon_qa_data.csv')"
   ]
  },
  {
   "cell_type": "code",
   "execution_count": null,
   "metadata": {},
   "outputs": [],
   "source": []
  }
 ],
 "metadata": {
  "kernelspec": {
   "display_name": "Python 3",
   "language": "python",
   "name": "python3"
  },
  "language_info": {
   "codemirror_mode": {
    "name": "ipython",
    "version": 3
   },
   "file_extension": ".py",
   "mimetype": "text/x-python",
   "name": "python",
   "nbconvert_exporter": "python",
   "pygments_lexer": "ipython3",
   "version": "3.7.4"
  }
 },
 "nbformat": 4,
 "nbformat_minor": 2
}

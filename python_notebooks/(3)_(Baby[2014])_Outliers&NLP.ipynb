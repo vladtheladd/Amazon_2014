{
 "cells": [
  {
   "cell_type": "markdown",
   "metadata": {},
   "source": [
    "![amazon_logo](banner.png)\n",
    "___"
   ]
  },
  {
   "cell_type": "code",
   "execution_count": 9,
   "metadata": {},
   "outputs": [
    {
     "name": "stderr",
     "output_type": "stream",
     "text": [
      "[nltk_data] Downloading package stopwords to\n",
      "[nltk_data]     C:\\Users\\vlad_\\AppData\\Roaming\\nltk_data...\n",
      "[nltk_data]   Package stopwords is already up-to-date!\n"
     ]
    }
   ],
   "source": [
    "import pandas as pd\n",
    "import numpy as np\n",
    "\n",
    "#for plots\n",
    "import seaborn as sns\n",
    "import matplotlib.pyplot as plt\n",
    "from scipy import stats\n",
    "%matplotlib inline \n",
    "sns.set(color_codes=True)\n",
    "\n",
    "#libraries for NLP\n",
    "import nltk\n",
    "nltk.download('stopwords')\n",
    "from nltk.corpus import stopwords\n",
    "from nltk.stem.porter import PorterStemmer\n",
    "from nltk.stem import WordNetLemmatizer\n",
    "import re"
   ]
  },
  {
   "cell_type": "markdown",
   "metadata": {},
   "source": [
    "# Step 3 - Outliers & NLP\n",
    "    a) Importing data\n",
    "    \n",
    "    b) Create 'State' Columns\n",
    "        \n",
    "    c) Natural Language Processing (Review Data)\n",
    "        - cleaning blurb variable\n",
    "            - punctuation\n",
    "            - stopwords\n",
    "            - lemmatization\n",
    "        - writing and saving corpus\n",
    "    \n",
    "    d) NLP (Q/A Data)"
   ]
  },
  {
   "cell_type": "markdown",
   "metadata": {},
   "source": [
    "### a) Importing data\n",
    "##### Use 'cleaned_amazon_data.csv' to begin cleaning"
   ]
  },
  {
   "cell_type": "code",
   "execution_count": 2,
   "metadata": {},
   "outputs": [
    {
     "name": "stdout",
     "output_type": "stream",
     "text": [
      "(159367, 9)\n"
     ]
    },
    {
     "data": {
      "text/html": [
       "<div>\n",
       "<style scoped>\n",
       "    .dataframe tbody tr th:only-of-type {\n",
       "        vertical-align: middle;\n",
       "    }\n",
       "\n",
       "    .dataframe tbody tr th {\n",
       "        vertical-align: top;\n",
       "    }\n",
       "\n",
       "    .dataframe thead th {\n",
       "        text-align: right;\n",
       "    }\n",
       "</style>\n",
       "<table border=\"1\" class=\"dataframe\">\n",
       "  <thead>\n",
       "    <tr style=\"text-align: right;\">\n",
       "      <th></th>\n",
       "      <th>reviewerID</th>\n",
       "      <th>asin</th>\n",
       "      <th>reviewerName</th>\n",
       "      <th>helpful</th>\n",
       "      <th>reviewText</th>\n",
       "      <th>overall</th>\n",
       "      <th>summary</th>\n",
       "      <th>unixReviewTime</th>\n",
       "      <th>total_review</th>\n",
       "    </tr>\n",
       "  </thead>\n",
       "  <tbody>\n",
       "    <tr>\n",
       "      <td>0</td>\n",
       "      <td>A1HK2FQW6KXQB2</td>\n",
       "      <td>097293751X</td>\n",
       "      <td>Amanda Johnsen \"Amanda E. Johnsen\"</td>\n",
       "      <td>[0, 0]</td>\n",
       "      <td>Perfect for new parents. We were able to keep ...</td>\n",
       "      <td>5</td>\n",
       "      <td>Awesine</td>\n",
       "      <td>2013-07-16</td>\n",
       "      <td>Awesine Perfect for new parents. We were able ...</td>\n",
       "    </tr>\n",
       "  </tbody>\n",
       "</table>\n",
       "</div>"
      ],
      "text/plain": [
       "       reviewerID        asin                        reviewerName helpful  \\\n",
       "0  A1HK2FQW6KXQB2  097293751X  Amanda Johnsen \"Amanda E. Johnsen\"  [0, 0]   \n",
       "\n",
       "                                          reviewText  overall  summary  \\\n",
       "0  Perfect for new parents. We were able to keep ...        5  Awesine   \n",
       "\n",
       "  unixReviewTime                                       total_review  \n",
       "0     2013-07-16  Awesine Perfect for new parents. We were able ...  "
      ]
     },
     "execution_count": 2,
     "metadata": {},
     "output_type": "execute_result"
    }
   ],
   "source": [
    "#import .csv file\n",
    "cleaned_df = pd.read_csv(\"cleaned_amazon_data.csv\")\n",
    "\n",
    "cleaned_df.drop(['Unnamed: 0'], axis=1, inplace=True)\n",
    "\n",
    "print(cleaned_df.shape)\n",
    "cleaned_df.head(1)"
   ]
  },
  {
   "cell_type": "markdown",
   "metadata": {},
   "source": [
    "### b) Create 'state' column"
   ]
  },
  {
   "cell_type": "markdown",
   "metadata": {},
   "source": [
    "For the purpose of this experiment, I'll bin the overall star reviews into __two__ categories: __{Bad: 1-4 Overall}, {Good: 5 Overall}__. I feel like this will best represent the general consensus among Amazon users as to what level of stars signifies a product being successful vs. unsuccessful."
   ]
  },
  {
   "cell_type": "code",
   "execution_count": 3,
   "metadata": {},
   "outputs": [
    {
     "name": "stdout",
     "output_type": "stream",
     "text": [
      "5    92579\n",
      "4    32723\n",
      "3    17144\n",
      "2     9155\n",
      "1     7766\n",
      "Name: overall, dtype: int64\n"
     ]
    }
   ],
   "source": [
    "print(cleaned_df['overall'].value_counts())"
   ]
  },
  {
   "cell_type": "code",
   "execution_count": 4,
   "metadata": {},
   "outputs": [
    {
     "data": {
      "text/plain": [
       "<matplotlib.axes._subplots.AxesSubplot at 0x21f00bdf4c8>"
      ]
     },
     "execution_count": 4,
     "metadata": {},
     "output_type": "execute_result"
    },
    {
     "data": {
      "image/png": "[encoded data removed]",
      "text/plain": [
       "<Figure size 432x288 with 1 Axes>"
      ]
     },
     "metadata": {},
     "output_type": "display_data"
    }
   ],
   "source": [
    "#make a boxplot of 'overall' column\n",
    "sns.boxplot(x=cleaned_df['overall'])"
   ]
  },
  {
   "cell_type": "code",
   "execution_count": 5,
   "metadata": {},
   "outputs": [
    {
     "data": {
      "text/plain": [
       "Good    92579\n",
       "Bad     66788\n",
       "Name: state, dtype: int64"
      ]
     },
     "execution_count": 5,
     "metadata": {},
     "output_type": "execute_result"
    }
   ],
   "source": [
    "#bin 'overall' column into 'Good' & 'Bad' overall ratings\n",
    "bins = [0, 4, 5]\n",
    "labels = ['Bad', 'Good']\n",
    "cleaned_df['state'] = pd.cut(cleaned_df['overall'], bins=bins, labels=labels)\n",
    "cleaned_df['state'].value_counts()"
   ]
  },
  {
   "cell_type": "code",
   "execution_count": 6,
   "metadata": {},
   "outputs": [
    {
     "data": {
      "image/png": "[encoded data removed]",
      "text/plain": [
       "<Figure size 432x288 with 1 Axes>"
      ]
     },
     "metadata": {
      "needs_background": "light"
     },
     "output_type": "display_data"
    }
   ],
   "source": [
    "x = cleaned_df['state']\n",
    "y = cleaned_df['overall']\n",
    "\n",
    "plt.scatter(x, y)\n",
    "plt.show()"
   ]
  },
  {
   "cell_type": "code",
   "execution_count": 7,
   "metadata": {},
   "outputs": [],
   "source": [
    "#reset index\n",
    "cleaned_df.reset_index(drop=True,inplace=True)"
   ]
  },
  {
   "cell_type": "markdown",
   "metadata": {},
   "source": [
    "### c) Natural Language Processing (Review Data)"
   ]
  },
  {
   "cell_type": "markdown",
   "metadata": {},
   "source": [
    "##### Clean the first row to check"
   ]
  },
  {
   "cell_type": "code",
   "execution_count": 8,
   "metadata": {},
   "outputs": [
    {
     "data": {
      "text/plain": [
       "\"Awesine Perfect for new parents. We were able to keep track of baby's feeding, sleep and diaper change schedule for the first two and a half months of her life. Made life easier when the doctor would ask questions about habits because we had it all right there!\""
      ]
     },
     "execution_count": 8,
     "metadata": {},
     "output_type": "execute_result"
    }
   ],
   "source": [
    "#create 'text' variable of every review\n",
    "text = pd.DataFrame(cleaned_df['total_review'])\n",
    "\n",
    "#lets clean the first review as a first step\n",
    "text['total_review'][0]"
   ]
  },
  {
   "cell_type": "code",
   "execution_count": 9,
   "metadata": {},
   "outputs": [
    {
     "data": {
      "text/plain": [
       "'awesine perfect new parent able keep track baby feeding sleep diaper change schedule first two half month life made life easier doctor would ask question habit right'"
      ]
     },
     "execution_count": 9,
     "metadata": {},
     "output_type": "execute_result"
    }
   ],
   "source": [
    "#only keep letters and replace other symbols with a white space in the first review\n",
    "review = re.sub('[^a-zA-Z]', ' ', text['total_review'][0])\n",
    "\n",
    "#change letters to lower-case\n",
    "review = review.lower()   \n",
    "\n",
    "#split the first review which is a string into list\n",
    "review = review.split()\n",
    "\n",
    "#for loop to remove stop-words and to do lemmatization\n",
    "wn = WordNetLemmatizer()\n",
    "review = [wn.lemmatize(word) for word in review if not word in set(stopwords.words('english'))]\n",
    "\n",
    "#join review back into a string from a list\n",
    "review = ' '.join(review)\n",
    "\n",
    "review"
   ]
  },
  {
   "cell_type": "markdown",
   "metadata": {},
   "source": [
    "##### Clean the entire 'total_review' column"
   ]
  },
  {
   "cell_type": "code",
   "execution_count": 10,
   "metadata": {},
   "outputs": [
    {
     "name": "stdout",
     "output_type": "stream",
     "text": [
      "159367\n"
     ]
    }
   ],
   "source": [
    "print(len(pd.DataFrame(cleaned_df['total_review'])))\n",
    "length = len(pd.DataFrame(cleaned_df['total_review']))"
   ]
  },
  {
   "cell_type": "code",
   "execution_count": 11,
   "metadata": {},
   "outputs": [],
   "source": [
    "corpus = []\n",
    "for i in range(0, 100000):\n",
    "    #only keep letters and replace other symbols with a white space in the first review\n",
    "    review = re.sub('[^a-zA-Z]', ' ', text['total_review'][i])\n",
    "\n",
    "    #change letters to lower-case\n",
    "    review = review.lower()   \n",
    "    #split\n",
    "    review = review.split()\n",
    "    #for loop to remove stop-words and to do stemming\n",
    "    wn = WordNetLemmatizer()\n",
    "    review = [wn.lemmatize(word) for word in review if not word in set(stopwords.words('english'))]\n",
    "    #join review back into a string from a list\n",
    "    review = ' '.join(review)\n",
    "    corpus.append(review)"
   ]
  },
  {
   "cell_type": "code",
   "execution_count": 15,
   "metadata": {},
   "outputs": [
    {
     "data": {
      "text/html": [
       "<div>\n",
       "<style scoped>\n",
       "    .dataframe tbody tr th:only-of-type {\n",
       "        vertical-align: middle;\n",
       "    }\n",
       "\n",
       "    .dataframe tbody tr th {\n",
       "        vertical-align: top;\n",
       "    }\n",
       "\n",
       "    .dataframe thead th {\n",
       "        text-align: right;\n",
       "    }\n",
       "</style>\n",
       "<table border=\"1\" class=\"dataframe\">\n",
       "  <thead>\n",
       "    <tr style=\"text-align: right;\">\n",
       "      <th></th>\n",
       "      <th>review</th>\n",
       "    </tr>\n",
       "  </thead>\n",
       "  <tbody>\n",
       "    <tr>\n",
       "      <td>0</td>\n",
       "      <td>awesine perfect new parent able keep track bab...</td>\n",
       "    </tr>\n",
       "    <tr>\n",
       "      <td>1</td>\n",
       "      <td>required new parent book life saver helpful ab...</td>\n",
       "    </tr>\n",
       "    <tr>\n",
       "      <td>2</td>\n",
       "      <td>grandmother watching baby help know exactly ba...</td>\n",
       "    </tr>\n",
       "    <tr>\n",
       "      <td>3</td>\n",
       "      <td>repeat buyer bought time older son bought newb...</td>\n",
       "    </tr>\n",
       "    <tr>\n",
       "      <td>4</td>\n",
       "      <td>great wanted alternative printing daily log sh...</td>\n",
       "    </tr>\n",
       "  </tbody>\n",
       "</table>\n",
       "</div>"
      ],
      "text/plain": [
       "                                              review\n",
       "0  awesine perfect new parent able keep track bab...\n",
       "1  required new parent book life saver helpful ab...\n",
       "2  grandmother watching baby help know exactly ba...\n",
       "3  repeat buyer bought time older son bought newb...\n",
       "4  great wanted alternative printing daily log sh..."
      ]
     },
     "execution_count": 15,
     "metadata": {},
     "output_type": "execute_result"
    }
   ],
   "source": [
    "#write corpus array into a dataframe and save it to a csv for importing into the Step 4 (Classification)\n",
    "corpus_df = pd.DataFrame(corpus, columns = ['review'])\n",
    "corpus_df.head()"
   ]
  },
  {
   "cell_type": "markdown",
   "metadata": {},
   "source": [
    "### d) NLP (Q/A Data)"
   ]
  },
  {
   "cell_type": "code",
   "execution_count": 19,
   "metadata": {},
   "outputs": [
    {
     "name": "stdout",
     "output_type": "stream",
     "text": [
      "(28933, 7)\n"
     ]
    },
    {
     "data": {
      "text/html": [
       "<div>\n",
       "<style scoped>\n",
       "    .dataframe tbody tr th:only-of-type {\n",
       "        vertical-align: middle;\n",
       "    }\n",
       "\n",
       "    .dataframe tbody tr th {\n",
       "        vertical-align: top;\n",
       "    }\n",
       "\n",
       "    .dataframe thead th {\n",
       "        text-align: right;\n",
       "    }\n",
       "</style>\n",
       "<table border=\"1\" class=\"dataframe\">\n",
       "  <thead>\n",
       "    <tr style=\"text-align: right;\">\n",
       "      <th></th>\n",
       "      <th>questionType</th>\n",
       "      <th>asin</th>\n",
       "      <th>answerTime</th>\n",
       "      <th>unixTime</th>\n",
       "      <th>question</th>\n",
       "      <th>answer</th>\n",
       "      <th>answerType</th>\n",
       "    </tr>\n",
       "  </thead>\n",
       "  <tbody>\n",
       "    <tr>\n",
       "      <td>0</td>\n",
       "      <td>open-ended</td>\n",
       "      <td>177036417X</td>\n",
       "      <td>Apr 16, 2015</td>\n",
       "      <td>1.429168e+09</td>\n",
       "      <td>Does this book contain any vaccination/immuniz...</td>\n",
       "      <td>Immunization page, yes. School, no.</td>\n",
       "      <td>NaN</td>\n",
       "    </tr>\n",
       "    <tr>\n",
       "      <td>1</td>\n",
       "      <td>yes/no</td>\n",
       "      <td>177036417X</td>\n",
       "      <td>Jul 1, 2014</td>\n",
       "      <td>1.404198e+09</td>\n",
       "      <td>Does this book have a section for the baby sho...</td>\n",
       "      <td>Yes it does</td>\n",
       "      <td>Y</td>\n",
       "    </tr>\n",
       "    <tr>\n",
       "      <td>2</td>\n",
       "      <td>yes/no</td>\n",
       "      <td>177036417X</td>\n",
       "      <td>Jun 9, 2014</td>\n",
       "      <td>1.402297e+09</td>\n",
       "      <td>Is it a religious based book? Just wondering s...</td>\n",
       "      <td>The book does have a lot of bible quotes in it...</td>\n",
       "      <td>?</td>\n",
       "    </tr>\n",
       "    <tr>\n",
       "      <td>3</td>\n",
       "      <td>yes/no</td>\n",
       "      <td>177036417X</td>\n",
       "      <td>May 28, 2014</td>\n",
       "      <td>1.401260e+09</td>\n",
       "      <td>is it 5 years</td>\n",
       "      <td>No. It's mainly for the first year. Everything...</td>\n",
       "      <td>N</td>\n",
       "    </tr>\n",
       "    <tr>\n",
       "      <td>4</td>\n",
       "      <td>yes/no</td>\n",
       "      <td>177036417X</td>\n",
       "      <td>Apr 23, 2014</td>\n",
       "      <td>1.398236e+09</td>\n",
       "      <td>is it a 5 year book?</td>\n",
       "      <td>Yes, it's a 5-year baby book. I bought this fo...</td>\n",
       "      <td>Y</td>\n",
       "    </tr>\n",
       "  </tbody>\n",
       "</table>\n",
       "</div>"
      ],
      "text/plain": [
       "  questionType        asin    answerTime      unixTime  \\\n",
       "0   open-ended  177036417X  Apr 16, 2015  1.429168e+09   \n",
       "1       yes/no  177036417X   Jul 1, 2014  1.404198e+09   \n",
       "2       yes/no  177036417X   Jun 9, 2014  1.402297e+09   \n",
       "3       yes/no  177036417X  May 28, 2014  1.401260e+09   \n",
       "4       yes/no  177036417X  Apr 23, 2014  1.398236e+09   \n",
       "\n",
       "                                            question  \\\n",
       "0  Does this book contain any vaccination/immuniz...   \n",
       "1  Does this book have a section for the baby sho...   \n",
       "2  Is it a religious based book? Just wondering s...   \n",
       "3                                      is it 5 years   \n",
       "4                               is it a 5 year book?   \n",
       "\n",
       "                                              answer answerType  \n",
       "0                Immunization page, yes. School, no.        NaN  \n",
       "1                                        Yes it does          Y  \n",
       "2  The book does have a lot of bible quotes in it...          ?  \n",
       "3  No. It's mainly for the first year. Everything...          N  \n",
       "4  Yes, it's a 5-year baby book. I bought this fo...          Y  "
      ]
     },
     "execution_count": 19,
     "metadata": {},
     "output_type": "execute_result"
    }
   ],
   "source": [
    "#import .csv file\n",
    "qa_df = pd.read_csv(\"amazon_qa_data.csv\")\n",
    "\n",
    "qa_df.drop(['Unnamed: 0'], axis=1, inplace=True)\n",
    "\n",
    "print(qa_df.shape)\n",
    "qa_df.head()"
   ]
  },
  {
   "cell_type": "code",
   "execution_count": 13,
   "metadata": {},
   "outputs": [
    {
     "data": {
      "text/plain": [
       "\"Does this book contain any vaccination/immunization pages? Or pages about school? (Most do, yet I don't vax and I homeschool). Thx so much! :)\""
      ]
     },
     "execution_count": 13,
     "metadata": {},
     "output_type": "execute_result"
    }
   ],
   "source": [
    "#create 'text' variable of every question\n",
    "q_text = pd.DataFrame(qa_df['question'])\n",
    "\n",
    "#lets clean the first question as a first step\n",
    "q_text['question'][0]"
   ]
  },
  {
   "cell_type": "code",
   "execution_count": 14,
   "metadata": {},
   "outputs": [
    {
     "data": {
      "text/plain": [
       "'book contain vaccination immunization page page school yet vax homeschool thx much'"
      ]
     },
     "execution_count": 14,
     "metadata": {},
     "output_type": "execute_result"
    }
   ],
   "source": [
    "question = re.sub('[^a-zA-Z]', ' ', q_text['question'][0])\n",
    "question = question.lower()   \n",
    "question = question.split()\n",
    "\n",
    "wn = WordNetLemmatizer()\n",
    "question = [wn.lemmatize(word) for word in question if not word in set(stopwords.words('english'))]\n",
    "\n",
    "question = ' '.join(question)\n",
    "question"
   ]
  },
  {
   "cell_type": "code",
   "execution_count": 15,
   "metadata": {},
   "outputs": [
    {
     "name": "stdout",
     "output_type": "stream",
     "text": [
      "28933\n"
     ]
    }
   ],
   "source": [
    "print(len(pd.DataFrame(qa_df['question'])))\n",
    "length = len(pd.DataFrame(qa_df['question']))"
   ]
  },
  {
   "cell_type": "code",
   "execution_count": 16,
   "metadata": {},
   "outputs": [],
   "source": [
    "q_corpus = []\n",
    "for i in range(0, length):\n",
    "    question = re.sub('[^a-zA-Z]', ' ', q_text['question'][i])\n",
    "    question = question.lower()   \n",
    "    question = question.split()\n",
    "    \n",
    "    wn = WordNetLemmatizer()\n",
    "    question = [wn.lemmatize(word) for word in question if not word in set(stopwords.words('english'))]\n",
    "    \n",
    "    question = ' '.join(question)\n",
    "    q_corpus.append(question)"
   ]
  },
  {
   "cell_type": "code",
   "execution_count": 17,
   "metadata": {},
   "outputs": [
    {
     "data": {
      "text/html": [
       "<div>\n",
       "<style scoped>\n",
       "    .dataframe tbody tr th:only-of-type {\n",
       "        vertical-align: middle;\n",
       "    }\n",
       "\n",
       "    .dataframe tbody tr th {\n",
       "        vertical-align: top;\n",
       "    }\n",
       "\n",
       "    .dataframe thead th {\n",
       "        text-align: right;\n",
       "    }\n",
       "</style>\n",
       "<table border=\"1\" class=\"dataframe\">\n",
       "  <thead>\n",
       "    <tr style=\"text-align: right;\">\n",
       "      <th></th>\n",
       "      <th>question</th>\n",
       "    </tr>\n",
       "  </thead>\n",
       "  <tbody>\n",
       "    <tr>\n",
       "      <td>0</td>\n",
       "      <td>book contain vaccination immunization page pag...</td>\n",
       "    </tr>\n",
       "    <tr>\n",
       "      <td>1</td>\n",
       "      <td>book section baby shower</td>\n",
       "    </tr>\n",
       "    <tr>\n",
       "      <td>2</td>\n",
       "      <td>religious based book wondering since pic bible...</td>\n",
       "    </tr>\n",
       "    <tr>\n",
       "      <td>3</td>\n",
       "      <td>year</td>\n",
       "    </tr>\n",
       "    <tr>\n",
       "      <td>4</td>\n",
       "      <td>year book</td>\n",
       "    </tr>\n",
       "  </tbody>\n",
       "</table>\n",
       "</div>"
      ],
      "text/plain": [
       "                                            question\n",
       "0  book contain vaccination immunization page pag...\n",
       "1                           book section baby shower\n",
       "2  religious based book wondering since pic bible...\n",
       "3                                               year\n",
       "4                                          year book"
      ]
     },
     "execution_count": 17,
     "metadata": {},
     "output_type": "execute_result"
    }
   ],
   "source": [
    "#write q_corpus array into a dataframe and save it to a csv\n",
    "q_corpus_df = pd.DataFrame(q_corpus, columns = ['question'])\n",
    "q_corpus_df.head()"
   ]
  },
  {
   "cell_type": "markdown",
   "metadata": {},
   "source": [
    "### End of Step 3"
   ]
  },
  {
   "cell_type": "code",
   "execution_count": 16,
   "metadata": {},
   "outputs": [],
   "source": [
    "#write corpus_df to a .csv\n",
    "corpus_df.to_csv('amazon_corpus_data.csv')"
   ]
  },
  {
   "cell_type": "code",
   "execution_count": 17,
   "metadata": {},
   "outputs": [],
   "source": [
    "#write cleaned_df to a .csv\n",
    "cleaned_df.to_csv('amazon_cleaned2_data.csv')"
   ]
  },
  {
   "cell_type": "code",
   "execution_count": 20,
   "metadata": {},
   "outputs": [],
   "source": [
    "#write q_corpus_df to a .csv\n",
    "q_corpus_df.to_csv('amazon_q_corpus_data.csv')"
   ]
  },
  {
   "cell_type": "code",
   "execution_count": null,
   "metadata": {},
   "outputs": [],
   "source": []
  }
 ],
 "metadata": {
  "kernelspec": {
   "display_name": "Python 3",
   "language": "python",
   "name": "python3"
  },
  "language_info": {
   "codemirror_mode": {
    "name": "ipython",
    "version": 3
   },
   "file_extension": ".py",
   "mimetype": "text/x-python",
   "name": "python",
   "nbconvert_exporter": "python",
   "pygments_lexer": "ipython3",
   "version": "3.7.4"
  }
 },
 "nbformat": 4,
 "nbformat_minor": 2
}
